{
 "cells": [
  {
   "cell_type": "markdown",
   "metadata": {},
   "source": [
    "# Introduction to machine learning in scikit-learn\n",
    "\n",
    "This is an introductory tutorial on machine learning using the scikit-learn Python package. Prerequisites are minimal; chiefly, I assume that the reader has a little bit of prior programming experience—preferably in Python. A passing familiarity with basic inferential statistical methods (primarily linear regression) is also helpful, but isn't essential.\n",
    "\n",
    "This tutorial is adapted from a slightly different [tutorial on machine learning for psychologists](https://github.com/tyarkoni/ML4PS). That tutorial, in turn, borrowed heavily from a number of others—most notably, from Jake Vanderplas's excellent [scikit-learn tutorial](https://github.com/jakevdp/sklearn_tutorial). The main differences between the present tutorial and most others out there are that (a) this tutorial is more verbose than most (i.e., the emphasis is on conceptual understanding rather than just on learning the scikit-learn API), and (b) most of the examples are drawn from psychology and neuroscience (rather than general-interest or toy datasets).\n",
    "\n",
    "### Overview and organization\n",
    "This tutorial is organized into several [Jupyter notebooks](http://jupyter.org). A Jupyter notebook is a web application that lets you combine text (or HTML), code, figures, equations, interactive widgets, and more, all in one magical document. There are currently 6 notebooks in total; each one provides an introductory look at a different topic in machine learning. The coverage is by no means exhaustive; the goal is simply to provide a high-level overview of a number of key machine learning concepts and practices.\n",
    "\n",
    "An important benefit of the Jupyter notebook format is that it's easy to interact with the code. To facilitate this, I've tried to put key parameters that you're encouraged to modify in constants (you'll recognize them by the fact that the variable names are all `UPPERCASE`) at the top of each cell. When you see something like `N = 30`, feel free to change it to `N = 300` and re-run the cell to see what effect it has on the generated plots or results. (Of course, you should feel free to modify the rest of the code as well!)\n",
    "\n",
    "While most of the code is included in the tutorial notebooks themselves, in a few cases where the code is particularly long, I've abstracted it into helper functions in the `support/` folder. This is done to reduce clutter and increase clarity, but it goes without saying that you can always go and take a look at the supporting code if you want to see the details."
   ]
  },
  {
   "cell_type": "markdown",
   "metadata": {},
   "source": [
    "### Software\n",
    "All of the code in this tutorial is written in Python. There is nothing intrinsically special about Python in the machine learning context; in principle, all of the examples and simulations in these notebooks could have been written in other languages (R, Matlab, etc.). Indeed, there are plenty of machine learning tutorials out there written in other languages.\n",
    "\n",
    "That said, Python does have a number of practical advantages over other languages. Chief among these is the fact that it's currently the most widely used language in the data science and machine learning community. This means there are exceptional tools written in Python for virtually every domain of machine learning. Exhibit A is the [scikit-learn](https://scikit-learn.org/stable/) package for machine learning, which we'll rely on heavily throughout this tutorial. Scikit-learn is the world's most widely used machine learning, and some of the reasons for its popularity will hopefully soon become clear. Scikit-learn is itself built on the [numpy](https://www.numpy.org) numerical computing library, which we'll also use fairly regular.\n",
    "\n",
    "If you're running these notebooks locally, you can find all of the dependencies in the `requirements.txt` file in the root of the [GitHub repository](https://github.com/neurohackademy/intro_sklearn). The easiest way to make sure they're all available for use is to install them with pip:\n",
    "\n",
    "> pip install -r requirements.txt\n",
    "\n",
    "### Data\n",
    "To learn how to do machine learning in scikit-learn, we're going to need some data. To facilitate learning and experimentation, scikit-learn includes a [`datasets`](https://scikit-learn.org/stable/datasets/index.html) module containing a number of widely-used toy datasets. Although we're not going to use these datasets in the present tutorial, it's worth being aware of scikit-learn's built-in dataset-loading utilities. Here's how we could load the (in)famous [Iris dataset](https://en.wikipedia.org/wiki/Iris_flower_data_set):"
   ]
  },
  {
   "cell_type": "code",
   "execution_count": 13,
   "metadata": {},
   "outputs": [],
   "source": [
    "from sklearn import datasets\n",
    "\n",
    "# Load a dictionary (technically, a Bunch) containing the data\n",
    "iris = datasets.load_iris()\n",
    "\n",
    "# 'data' and 'target' contains the feature data and classes, respectively\n",
    "X, y = iris['data'], iris['target']"
   ]
  },
  {
   "cell_type": "markdown",
   "metadata": {},
   "source": [
    "`X` contains feature information for 150 individual Iris flowers drawn from 3 different species. `y` contains the true class information for all flowers. If we want to inspect the features in a tabular form, we can easily load the data into a pandas `DataFrame`:"
   ]
  },
  {
   "cell_type": "code",
   "execution_count": 12,
   "metadata": {},
   "outputs": [
    {
     "data": {
      "text/html": [
       "<div>\n",
       "<style scoped>\n",
       "    .dataframe tbody tr th:only-of-type {\n",
       "        vertical-align: middle;\n",
       "    }\n",
       "\n",
       "    .dataframe tbody tr th {\n",
       "        vertical-align: top;\n",
       "    }\n",
       "\n",
       "    .dataframe thead th {\n",
       "        text-align: right;\n",
       "    }\n",
       "</style>\n",
       "<table border=\"1\" class=\"dataframe\">\n",
       "  <thead>\n",
       "    <tr style=\"text-align: right;\">\n",
       "      <th></th>\n",
       "      <th>sepal length (cm)</th>\n",
       "      <th>sepal width (cm)</th>\n",
       "      <th>petal length (cm)</th>\n",
       "      <th>petal width (cm)</th>\n",
       "    </tr>\n",
       "  </thead>\n",
       "  <tbody>\n",
       "    <tr>\n",
       "      <th>0</th>\n",
       "      <td>5.1</td>\n",
       "      <td>3.5</td>\n",
       "      <td>1.4</td>\n",
       "      <td>0.2</td>\n",
       "    </tr>\n",
       "    <tr>\n",
       "      <th>1</th>\n",
       "      <td>4.9</td>\n",
       "      <td>3.0</td>\n",
       "      <td>1.4</td>\n",
       "      <td>0.2</td>\n",
       "    </tr>\n",
       "    <tr>\n",
       "      <th>2</th>\n",
       "      <td>4.7</td>\n",
       "      <td>3.2</td>\n",
       "      <td>1.3</td>\n",
       "      <td>0.2</td>\n",
       "    </tr>\n",
       "    <tr>\n",
       "      <th>3</th>\n",
       "      <td>4.6</td>\n",
       "      <td>3.1</td>\n",
       "      <td>1.5</td>\n",
       "      <td>0.2</td>\n",
       "    </tr>\n",
       "    <tr>\n",
       "      <th>4</th>\n",
       "      <td>5.0</td>\n",
       "      <td>3.6</td>\n",
       "      <td>1.4</td>\n",
       "      <td>0.2</td>\n",
       "    </tr>\n",
       "  </tbody>\n",
       "</table>\n",
       "</div>"
      ],
      "text/plain": [
       "   sepal length (cm)  sepal width (cm)  petal length (cm)  petal width (cm)\n",
       "0                5.1               3.5                1.4               0.2\n",
       "1                4.9               3.0                1.4               0.2\n",
       "2                4.7               3.2                1.3               0.2\n",
       "3                4.6               3.1                1.5               0.2\n",
       "4                5.0               3.6                1.4               0.2"
      ]
     },
     "execution_count": 12,
     "metadata": {},
     "output_type": "execute_result"
    }
   ],
   "source": [
    "# Here we're importing the pandas package, which we'll use extensively\n",
    "# for data manipulation. In future sections, we'll put the core imports\n",
    "# at the top of the notebook, which is the convention in Python.\n",
    "import pandas as pd\n",
    "\n",
    "# Initialize a new pandas DataFrame from the X matrix and the feature names\n",
    "data = pd.DataFrame(X, columns=iris['feature_names'])\n",
    "data.head()"
   ]
  },
  {
   "cell_type": "markdown",
   "metadata": {},
   "source": [
    "In principle, we could use the iris dataset (or one of the other datasets bundled with scikit-learn) for many of the examples we'll work through. But the iris dataset has some limitations—most notably, it's fairly small (only 150 rows and 4 features), and has nothing to do with neuroscience or psychology.\n",
    "\n",
    "Instead, we'll use data that should be of interest to psychologists and many neuroscientists—namely, personality questionnaire data from [Johnson (2014)](http://www.personal.psu.edu/faculty/j/5/j5j/papers/JRP2014.pdf). The dataset consists of internet-based responses from over 300,000 people to a 300-item personality questionnaire—the IPIP representation of the NEO-PI-R. The NEO-PI-R is one of the most widely used measures of the Big Five. You've probably heard of the Big Five at least indirectly even if you're not a personality psychologist. If you've ever heard someone mumble something like \"no I don't want to go out right now; don't you know I'm an introvert?\", you're in the right ballpark. If you've worked with any of the larger public neuroimaging datasets (e.g., the Human Connectome Project, UK BioBank, etc.), there's a good chance you've come across, and possibly even used, self-report data very much like this.\n",
    "\n",
    "The citation for the data, in case you end up wanting to use it for anything else, is:\n",
    "\n",
    "> Johnson, J. A. (2014). Measuring thirty facets of the five factor model with a 120-item public domain inventory: Development of the IPIP-NEO-120. Journal of Research in Personality, 51, 78-89.\n",
    "\n",
    "The original data is available in SPSS format [here](https://osf.io/wxvth/files/). But because SPSS is evil, I've taken the small liberty of bundling this repo with a plaintext, tab-delimited version of the file. This will make our life much easier when reading the data in. I've also taken the somewhat bigger liberty of dropping all rows that contain at least one missing response. Normally, [listwise deletion](https://en.wikipedia.org/wiki/Listwise_deletion) isn't a great thing to do, but our goal here is to introduce core machine learning principles, not to draw generalizable inferences about personality. So we're going to opt for expediency.\n",
    "\n",
    "With that out of the way, let's read in and look at the data. We'll use [pandas](https://pandas.pydata.org/)—the reference data analysis library in Python—to do this. Pandas provides us with a fairly magical `read_csv` function that can read in almost any kind of tabular data. The dataset we're working with is pretty large (~145,000 rows), so expect this to take a few seconds."
   ]
  },
  {
   "cell_type": "code",
   "execution_count": 15,
   "metadata": {},
   "outputs": [],
   "source": [
    "# read_csv is a workhorse function that can read almost any kind of\n",
    "# plain-text format. The returned object is a pandas DataFrame.\n",
    "all_data = pd.read_csv('data/Johnson-2014-IPIP-300.tsv.gz', sep='\\t')"
   ]
  },
  {
   "cell_type": "markdown",
   "metadata": {},
   "source": [
    "### Representing the data"
   ]
  },
  {
   "cell_type": "markdown",
   "metadata": {},
   "source": [
    "Once the data have been read in, we can take a look at the first few rows:"
   ]
  },
  {
   "cell_type": "code",
   "execution_count": 16,
   "metadata": {},
   "outputs": [
    {
     "data": {
      "text/html": [
       "<div>\n",
       "<style scoped>\n",
       "    .dataframe tbody tr th:only-of-type {\n",
       "        vertical-align: middle;\n",
       "    }\n",
       "\n",
       "    .dataframe tbody tr th {\n",
       "        vertical-align: top;\n",
       "    }\n",
       "\n",
       "    .dataframe thead th {\n",
       "        text-align: right;\n",
       "    }\n",
       "</style>\n",
       "<table border=\"1\" class=\"dataframe\">\n",
       "  <thead>\n",
       "    <tr style=\"text-align: right;\">\n",
       "      <th></th>\n",
       "      <th>CASE</th>\n",
       "      <th>SEX</th>\n",
       "      <th>AGE</th>\n",
       "      <th>SEC</th>\n",
       "      <th>MIN</th>\n",
       "      <th>HOUR</th>\n",
       "      <th>DATE</th>\n",
       "      <th>MONTH</th>\n",
       "      <th>YEAR</th>\n",
       "      <th>COUNTRY</th>\n",
       "      <th>...</th>\n",
       "      <th>Self-Discipline</th>\n",
       "      <th>Self-Efficacy</th>\n",
       "      <th>Sympathy</th>\n",
       "      <th>Trust</th>\n",
       "      <th>Vulnerability</th>\n",
       "      <th>Neuroticism</th>\n",
       "      <th>Extraversion</th>\n",
       "      <th>Openness</th>\n",
       "      <th>Agreeableness</th>\n",
       "      <th>Conscientiousness</th>\n",
       "    </tr>\n",
       "  </thead>\n",
       "  <tbody>\n",
       "    <tr>\n",
       "      <th>0</th>\n",
       "      <td>4</td>\n",
       "      <td>2</td>\n",
       "      <td>36</td>\n",
       "      <td>44</td>\n",
       "      <td>11</td>\n",
       "      <td>10</td>\n",
       "      <td>31</td>\n",
       "      <td>0</td>\n",
       "      <td>101</td>\n",
       "      <td>USA</td>\n",
       "      <td>...</td>\n",
       "      <td>4.2</td>\n",
       "      <td>5.0</td>\n",
       "      <td>4.0</td>\n",
       "      <td>4.1</td>\n",
       "      <td>1.1</td>\n",
       "      <td>1.483333</td>\n",
       "      <td>3.850000</td>\n",
       "      <td>4.300000</td>\n",
       "      <td>4.400000</td>\n",
       "      <td>4.48</td>\n",
       "    </tr>\n",
       "    <tr>\n",
       "      <th>1</th>\n",
       "      <td>6</td>\n",
       "      <td>1</td>\n",
       "      <td>17</td>\n",
       "      <td>28</td>\n",
       "      <td>23</td>\n",
       "      <td>10</td>\n",
       "      <td>31</td>\n",
       "      <td>0</td>\n",
       "      <td>101</td>\n",
       "      <td>UK</td>\n",
       "      <td>...</td>\n",
       "      <td>2.2</td>\n",
       "      <td>3.7</td>\n",
       "      <td>2.8</td>\n",
       "      <td>3.5</td>\n",
       "      <td>2.5</td>\n",
       "      <td>2.566667</td>\n",
       "      <td>3.566667</td>\n",
       "      <td>3.233333</td>\n",
       "      <td>3.000000</td>\n",
       "      <td>3.18</td>\n",
       "    </tr>\n",
       "    <tr>\n",
       "      <th>2</th>\n",
       "      <td>9</td>\n",
       "      <td>2</td>\n",
       "      <td>28</td>\n",
       "      <td>0</td>\n",
       "      <td>30</td>\n",
       "      <td>10</td>\n",
       "      <td>31</td>\n",
       "      <td>0</td>\n",
       "      <td>101</td>\n",
       "      <td>Denmark</td>\n",
       "      <td>...</td>\n",
       "      <td>2.7</td>\n",
       "      <td>4.2</td>\n",
       "      <td>4.0</td>\n",
       "      <td>4.7</td>\n",
       "      <td>1.9</td>\n",
       "      <td>2.283333</td>\n",
       "      <td>2.983333</td>\n",
       "      <td>4.350000</td>\n",
       "      <td>3.983333</td>\n",
       "      <td>3.32</td>\n",
       "    </tr>\n",
       "    <tr>\n",
       "      <th>3</th>\n",
       "      <td>11</td>\n",
       "      <td>1</td>\n",
       "      <td>17</td>\n",
       "      <td>36</td>\n",
       "      <td>36</td>\n",
       "      <td>10</td>\n",
       "      <td>31</td>\n",
       "      <td>0</td>\n",
       "      <td>101</td>\n",
       "      <td>Singapore</td>\n",
       "      <td>...</td>\n",
       "      <td>3.6</td>\n",
       "      <td>3.0</td>\n",
       "      <td>4.2</td>\n",
       "      <td>4.2</td>\n",
       "      <td>3.3</td>\n",
       "      <td>3.250000</td>\n",
       "      <td>2.416667</td>\n",
       "      <td>2.716667</td>\n",
       "      <td>4.200000</td>\n",
       "      <td>3.70</td>\n",
       "    </tr>\n",
       "    <tr>\n",
       "      <th>4</th>\n",
       "      <td>15</td>\n",
       "      <td>2</td>\n",
       "      <td>48</td>\n",
       "      <td>34</td>\n",
       "      <td>49</td>\n",
       "      <td>10</td>\n",
       "      <td>31</td>\n",
       "      <td>0</td>\n",
       "      <td>101</td>\n",
       "      <td>USA</td>\n",
       "      <td>...</td>\n",
       "      <td>3.9</td>\n",
       "      <td>4.0</td>\n",
       "      <td>4.4</td>\n",
       "      <td>3.1</td>\n",
       "      <td>3.2</td>\n",
       "      <td>3.416667</td>\n",
       "      <td>3.066667</td>\n",
       "      <td>3.566667</td>\n",
       "      <td>3.900000</td>\n",
       "      <td>4.20</td>\n",
       "    </tr>\n",
       "  </tbody>\n",
       "</table>\n",
       "<p>5 rows × 345 columns</p>\n",
       "</div>"
      ],
      "text/plain": [
       "   CASE  SEX  AGE  SEC  MIN  HOUR  DATE  MONTH  YEAR    COUNTRY  ...  \\\n",
       "0     4    2   36   44   11    10    31      0   101        USA  ...   \n",
       "1     6    1   17   28   23    10    31      0   101         UK  ...   \n",
       "2     9    2   28    0   30    10    31      0   101    Denmark  ...   \n",
       "3    11    1   17   36   36    10    31      0   101  Singapore  ...   \n",
       "4    15    2   48   34   49    10    31      0   101        USA  ...   \n",
       "\n",
       "   Self-Discipline  Self-Efficacy  Sympathy  Trust  Vulnerability  \\\n",
       "0              4.2            5.0       4.0    4.1            1.1   \n",
       "1              2.2            3.7       2.8    3.5            2.5   \n",
       "2              2.7            4.2       4.0    4.7            1.9   \n",
       "3              3.6            3.0       4.2    4.2            3.3   \n",
       "4              3.9            4.0       4.4    3.1            3.2   \n",
       "\n",
       "   Neuroticism  Extraversion  Openness  Agreeableness  Conscientiousness  \n",
       "0     1.483333      3.850000  4.300000       4.400000               4.48  \n",
       "1     2.566667      3.566667  3.233333       3.000000               3.18  \n",
       "2     2.283333      2.983333  4.350000       3.983333               3.32  \n",
       "3     3.250000      2.416667  2.716667       4.200000               3.70  \n",
       "4     3.416667      3.066667  3.566667       3.900000               4.20  \n",
       "\n",
       "[5 rows x 345 columns]"
      ]
     },
     "execution_count": 16,
     "metadata": {},
     "output_type": "execute_result"
    }
   ],
   "source": [
    "# head() display the first few rows of the dataset.\n",
    "all_data.head()"
   ]
  },
  {
   "cell_type": "markdown",
   "metadata": {},
   "source": [
    "As we can see, the data are tabular. Every row represents a different person, and every column represents a different variable. In machine learning terminology, we typically refer to the rows and columns as *samples* and *features*, respectively. We can thus think of our data as a two-dimensional *n* (samples) x *p* (features) matrix. The vast majority of algorithms implemented in the scikit-learn package expect to receive numerical matrices of this kind as their primary inputs. (Note that some of the columns in our dataset—e.g., \"COUNTRY\" and \"MONTH\"—contains strings or categorical values, so technically we'd need to recode these columns into a numerical form before we could make proper use of them.)\n",
    "\n",
    "The original dataset consists of 310 columns: 10 demographic and contextual variables (sex, age, country, etc.) and 300 individual items, where each response is on a 5-point likert scale (reverse-keyed items have already been reversed). For example, here's the response distribution for the 100th item:"
   ]
  },
  {
   "cell_type": "code",
   "execution_count": 17,
   "metadata": {},
   "outputs": [
    {
     "data": {
      "image/png": "[encoded data removed]",
      "text/plain": [
       "<Figure size 432x288 with 1 Axes>"
      ]
     },
     "metadata": {},
     "output_type": "display_data"
    }
   ],
   "source": [
    "### tells the jupyter notebook to display plots in-line\n",
    "%matplotlib inline\n",
    "\n",
    "all_data['I100'].hist();"
   ]
  },
  {
   "cell_type": "markdown",
   "metadata": {},
   "source": [
    "The cleaned-up version of the data I've provided here supplements the demographic and item variables with 30 facet score and 5 domains. The 30 facets are supposed to represent relatively narrow personality traits, where each facet score is obtained by averaging 10 of the 300 items. The facet scores, in turn, can be averaged (in groups of 6) to form the canonical Big Five constructs—Neuroticism, Extraversion, Openness, Agreeableness, and Conscientiousness.\n",
    "\n",
    "#### Easier data retrieval\n",
    "A lot of our analyses are going to make use of different subsets of the overall dataset. In particular, we'll frequently want to (a) sample subsets of rows, and (b) compare different sets of predictors (e.g., the 5 domains, 30 facets, and 300 individual items). To save ourselves from having to write the same subsetting code over and over, let's abstract it into a small helper function (in the other notebooks, we'll import the same function from our `support/` module)."
   ]
  },
  {
   "cell_type": "code",
   "execution_count": 18,
   "metadata": {},
   "outputs": [],
   "source": [
    "def get_features(data, *args, n=None):\n",
    "    ''' Return specified features or feature groups for a subsample.\n",
    "    \n",
    "    Args:\n",
    "        data (DataFrame): DataFrame to subsample.\n",
    "        args (list): Positional args containing the names of\n",
    "            variables/groups to return. Each element must be one of\n",
    "            'domains', 'facets', 'items', or the name of an existing\n",
    "            column.\n",
    "        n (int): Number of cases to return. If None, keeps all rows.\n",
    "\n",
    "    Returns: A list of pandasDataFrames and/or Series, in the same\n",
    "        order as *args.\n",
    "    '''\n",
    "\n",
    "    if n is not None:\n",
    "        data = data.sample(n)\n",
    "\n",
    "    results = []\n",
    "\n",
    "    for name in args:\n",
    "        if name == 'domains':\n",
    "            results.append(data.iloc[:, -5:])\n",
    "        elif name == 'facets':\n",
    "            results.append(data.iloc[:, -35:-5])\n",
    "        elif name == 'items':\n",
    "            results.append(data.iloc[:, -335:-35])\n",
    "        else:\n",
    "            results.append(data[name])\n",
    "\n",
    "    return results"
   ]
  },
  {
   "cell_type": "markdown",
   "metadata": {},
   "source": [
    "For example, to get just the Big Five domain scores for 1000 random rows:"
   ]
  },
  {
   "cell_type": "code",
   "execution_count": 19,
   "metadata": {},
   "outputs": [
    {
     "data": {
      "text/html": [
       "<div>\n",
       "<style scoped>\n",
       "    .dataframe tbody tr th:only-of-type {\n",
       "        vertical-align: middle;\n",
       "    }\n",
       "\n",
       "    .dataframe tbody tr th {\n",
       "        vertical-align: top;\n",
       "    }\n",
       "\n",
       "    .dataframe thead th {\n",
       "        text-align: right;\n",
       "    }\n",
       "</style>\n",
       "<table border=\"1\" class=\"dataframe\">\n",
       "  <thead>\n",
       "    <tr style=\"text-align: right;\">\n",
       "      <th></th>\n",
       "      <th>Neuroticism</th>\n",
       "      <th>Extraversion</th>\n",
       "      <th>Openness</th>\n",
       "      <th>Agreeableness</th>\n",
       "      <th>Conscientiousness</th>\n",
       "    </tr>\n",
       "  </thead>\n",
       "  <tbody>\n",
       "    <tr>\n",
       "      <th>113387</th>\n",
       "      <td>2.900000</td>\n",
       "      <td>3.833333</td>\n",
       "      <td>4.050000</td>\n",
       "      <td>4.300000</td>\n",
       "      <td>3.38</td>\n",
       "    </tr>\n",
       "    <tr>\n",
       "      <th>40662</th>\n",
       "      <td>3.583333</td>\n",
       "      <td>3.500000</td>\n",
       "      <td>3.833333</td>\n",
       "      <td>2.933333</td>\n",
       "      <td>2.08</td>\n",
       "    </tr>\n",
       "    <tr>\n",
       "      <th>102336</th>\n",
       "      <td>2.216667</td>\n",
       "      <td>3.933333</td>\n",
       "      <td>3.533333</td>\n",
       "      <td>3.783333</td>\n",
       "      <td>3.72</td>\n",
       "    </tr>\n",
       "    <tr>\n",
       "      <th>43340</th>\n",
       "      <td>2.966667</td>\n",
       "      <td>3.316667</td>\n",
       "      <td>3.750000</td>\n",
       "      <td>3.150000</td>\n",
       "      <td>3.66</td>\n",
       "    </tr>\n",
       "    <tr>\n",
       "      <th>76678</th>\n",
       "      <td>2.316667</td>\n",
       "      <td>3.750000</td>\n",
       "      <td>3.383333</td>\n",
       "      <td>3.266667</td>\n",
       "      <td>3.34</td>\n",
       "    </tr>\n",
       "  </tbody>\n",
       "</table>\n",
       "</div>"
      ],
      "text/plain": [
       "        Neuroticism  Extraversion  Openness  Agreeableness  Conscientiousness\n",
       "113387     2.900000      3.833333  4.050000       4.300000               3.38\n",
       "40662      3.583333      3.500000  3.833333       2.933333               2.08\n",
       "102336     2.216667      3.933333  3.533333       3.783333               3.72\n",
       "43340      2.966667      3.316667  3.750000       3.150000               3.66\n",
       "76678      2.316667      3.750000  3.383333       3.266667               3.34"
      ]
     },
     "execution_count": 19,
     "metadata": {},
     "output_type": "execute_result"
    }
   ],
   "source": [
    "# Note that get_features() always returns a list, so when\n",
    "# there's only a single requested object, we index with [0].\n",
    "domains = get_features(all_data, 'domains', n=1000)[0]\n",
    "\n",
    "# Display first few rows\n",
    "domains.head()"
   ]
  },
  {
   "cell_type": "markdown",
   "metadata": {},
   "source": [
    "Now we have some (numerical) matrices we can use to do machine learning! For the purposes of this tutorial, most of the predictive features we use (again, a \"feature\" is just machine learning-speak for \"variable\") will be personality scores of this kind—the 5 Big Five domains, 30 facets, or 300 individual items. Conventionally, we refer to the data matrix we're using to generate predictions as our `X` matrix.\n",
    "\n",
    "#### A suitable outcome\n",
    "The `X` matrix is, by itself, insufficient for prediction. Having some features we can use to make predictions is great, but we also need to know what we're trying to predict! Conventionally, the target of the prediction process is a vector of scores labeled `y`. In our case, the Johnson (2014) dataset includes a number of basic demographic variables. We'll mostly focus on age, which is a nice target for prediction, because (a) it's a numerical variable, and (b) we might intuitively expect there to be systematic relationships between people's age and their self-reported personality scores. Let's confirm this by looking at the zero-order correlation between each personality dimension and age:"
   ]
  },
  {
   "cell_type": "code",
   "execution_count": 21,
   "metadata": {},
   "outputs": [
    {
     "data": {
      "text/plain": [
       "Neuroticism         -0.12\n",
       "Extraversion        -0.12\n",
       "Openness             0.01\n",
       "Agreeableness        0.16\n",
       "Conscientiousness    0.25\n",
       "dtype: float64"
      ]
     },
     "execution_count": 21,
     "metadata": {},
     "output_type": "execute_result"
    }
   ],
   "source": [
    "# Get domain scores and age and assign to variables\n",
    "X, y = get_features(all_data, 'domains', 'AGE')\n",
    "\n",
    "# Pearson correlation between columns in X and y\n",
    "X.corrwith(y).round(2)"
   ]
  },
  {
   "cell_type": "markdown",
   "metadata": {},
   "source": [
    "Four out of 5 of the Big Five dimensions are non-trivially correlated with age, and the relationship with conscientiousness is particularly robust.\n",
    "\n",
    "Now that we've got our tools and data all set up, we're ready to start doing some machine learning."
   ]
  }
 ],
 "metadata": {
  "kernelspec": {
   "display_name": "Python 3",
   "language": "python",
   "name": "python3"
  },
  "language_info": {
   "codemirror_mode": {
    "name": "ipython",
    "version": 3
   },
   "file_extension": ".py",
   "mimetype": "text/x-python",
   "name": "python",
   "nbconvert_exporter": "python",
   "pygments_lexer": "ipython3",
   "version": "3.6.8"
  }
 },
 "nbformat": 4,
 "nbformat_minor": 2
}
